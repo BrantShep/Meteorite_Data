{
 "cells": [
  {
   "cell_type": "markdown",
   "id": "286c9d48",
   "metadata": {},
   "source": [
    "A couple of reasons that I wanted to use this data set are:\n",
    "1)It's a fairly clean data set.  I am still learning how to analyze data and the cleaner the inital dataset, the better.\n",
    "2)I think there are some really interesting questions that can be asked here.\n",
    "\n",
    "The questions I want to ask are:\n",
    "What is the oldest meteorite to fall to earth?\n",
    "What is the most recent meteorite to fall to earth?\n",
    "What is the largest meteorite to fall to earth?\n",
    "What is the smallest?\n",
    "What is the average size of meteorites that fall to earth?\n",
    "What is the median?\n",
    "What are the quartiles?\n",
    "What are the outliers?\n",
    "I want to visualize the sizes with a histogram.\n",
    "Have meteorites gotten larger or smaller as the years have gone by?\n",
    "I want to visualize this with a line graph\n",
    "Are there ares of the the planet that have more meteorite activities than others?\n",
    "\n",
    "I'm going to start by importing the data and looking at the first five rows.\n"
   ]
  },
  {
   "cell_type": "code",
   "execution_count": 110,
   "id": "d6f2cfa8",
   "metadata": {},
   "outputs": [
    {
     "data": {
      "text/html": [
       "<div>\n",
       "<style scoped>\n",
       "    .dataframe tbody tr th:only-of-type {\n",
       "        vertical-align: middle;\n",
       "    }\n",
       "\n",
       "    .dataframe tbody tr th {\n",
       "        vertical-align: top;\n",
       "    }\n",
       "\n",
       "    .dataframe thead th {\n",
       "        text-align: right;\n",
       "    }\n",
       "</style>\n",
       "<table border=\"1\" class=\"dataframe\">\n",
       "  <thead>\n",
       "    <tr style=\"text-align: right;\">\n",
       "      <th></th>\n",
       "      <th>name</th>\n",
       "      <th>id</th>\n",
       "      <th>nametype</th>\n",
       "      <th>recclass</th>\n",
       "      <th>mass (g)</th>\n",
       "      <th>fall</th>\n",
       "      <th>year</th>\n",
       "      <th>reclat</th>\n",
       "      <th>reclong</th>\n",
       "      <th>GeoLocation</th>\n",
       "    </tr>\n",
       "  </thead>\n",
       "  <tbody>\n",
       "    <tr>\n",
       "      <th>0</th>\n",
       "      <td>Aachen</td>\n",
       "      <td>1</td>\n",
       "      <td>Valid</td>\n",
       "      <td>L5</td>\n",
       "      <td>21.0</td>\n",
       "      <td>Fell</td>\n",
       "      <td>1880.0</td>\n",
       "      <td>50.77500</td>\n",
       "      <td>6.08333</td>\n",
       "      <td>(50.775, 6.08333)</td>\n",
       "    </tr>\n",
       "    <tr>\n",
       "      <th>1</th>\n",
       "      <td>Aarhus</td>\n",
       "      <td>2</td>\n",
       "      <td>Valid</td>\n",
       "      <td>H6</td>\n",
       "      <td>720.0</td>\n",
       "      <td>Fell</td>\n",
       "      <td>1951.0</td>\n",
       "      <td>56.18333</td>\n",
       "      <td>10.23333</td>\n",
       "      <td>(56.18333, 10.23333)</td>\n",
       "    </tr>\n",
       "    <tr>\n",
       "      <th>2</th>\n",
       "      <td>Abee</td>\n",
       "      <td>6</td>\n",
       "      <td>Valid</td>\n",
       "      <td>EH4</td>\n",
       "      <td>107000.0</td>\n",
       "      <td>Fell</td>\n",
       "      <td>1952.0</td>\n",
       "      <td>54.21667</td>\n",
       "      <td>-113.00000</td>\n",
       "      <td>(54.21667, -113.0)</td>\n",
       "    </tr>\n",
       "    <tr>\n",
       "      <th>3</th>\n",
       "      <td>Acapulco</td>\n",
       "      <td>10</td>\n",
       "      <td>Valid</td>\n",
       "      <td>Acapulcoite</td>\n",
       "      <td>1914.0</td>\n",
       "      <td>Fell</td>\n",
       "      <td>1976.0</td>\n",
       "      <td>16.88333</td>\n",
       "      <td>-99.90000</td>\n",
       "      <td>(16.88333, -99.9)</td>\n",
       "    </tr>\n",
       "    <tr>\n",
       "      <th>4</th>\n",
       "      <td>Achiras</td>\n",
       "      <td>370</td>\n",
       "      <td>Valid</td>\n",
       "      <td>L6</td>\n",
       "      <td>780.0</td>\n",
       "      <td>Fell</td>\n",
       "      <td>1902.0</td>\n",
       "      <td>-33.16667</td>\n",
       "      <td>-64.95000</td>\n",
       "      <td>(-33.16667, -64.95)</td>\n",
       "    </tr>\n",
       "  </tbody>\n",
       "</table>\n",
       "</div>"
      ],
      "text/plain": [
       "       name   id nametype     recclass  mass (g)  fall    year    reclat  \\\n",
       "0    Aachen    1    Valid           L5      21.0  Fell  1880.0  50.77500   \n",
       "1    Aarhus    2    Valid           H6     720.0  Fell  1951.0  56.18333   \n",
       "2      Abee    6    Valid          EH4  107000.0  Fell  1952.0  54.21667   \n",
       "3  Acapulco   10    Valid  Acapulcoite    1914.0  Fell  1976.0  16.88333   \n",
       "4   Achiras  370    Valid           L6     780.0  Fell  1902.0 -33.16667   \n",
       "\n",
       "     reclong           GeoLocation  \n",
       "0    6.08333     (50.775, 6.08333)  \n",
       "1   10.23333  (56.18333, 10.23333)  \n",
       "2 -113.00000    (54.21667, -113.0)  \n",
       "3  -99.90000     (16.88333, -99.9)  \n",
       "4  -64.95000   (-33.16667, -64.95)  "
      ]
     },
     "execution_count": 110,
     "metadata": {},
     "output_type": "execute_result"
    }
   ],
   "source": [
    "import pandas as pd\n",
    "import matplotlib.pyplot as plt\n",
    "import numpy as np\n",
    "\n",
    "met_df = pd.read_csv('/Users/000057680/Documents/Projects/Jupyter Projects/Meteorite_Landings.csv')\n",
    "met_df.head()\n"
   ]
  },
  {
   "cell_type": "code",
   "execution_count": 111,
   "id": "1850476e",
   "metadata": {},
   "outputs": [
    {
     "name": "stdout",
     "output_type": "stream",
     "text": [
      "<class 'pandas.core.frame.DataFrame'>\n",
      "RangeIndex: 45716 entries, 0 to 45715\n",
      "Data columns (total 10 columns):\n",
      " #   Column       Non-Null Count  Dtype  \n",
      "---  ------       --------------  -----  \n",
      " 0   name         45716 non-null  object \n",
      " 1   id           45716 non-null  int64  \n",
      " 2   nametype     45716 non-null  object \n",
      " 3   recclass     45716 non-null  object \n",
      " 4   mass (g)     45585 non-null  float64\n",
      " 5   fall         45716 non-null  object \n",
      " 6   year         45425 non-null  float64\n",
      " 7   reclat       38401 non-null  float64\n",
      " 8   reclong      38401 non-null  float64\n",
      " 9   GeoLocation  38401 non-null  object \n",
      "dtypes: float64(4), int64(1), object(5)\n",
      "memory usage: 3.5+ MB\n"
     ]
    },
    {
     "data": {
      "text/plain": [
       "1.30       171\n",
       "1.20       140\n",
       "1.40       138\n",
       "2.10       130\n",
       "2.40       126\n",
       "          ... \n",
       "129.33       1\n",
       "83.13        1\n",
       "485.70       1\n",
       "85.32        1\n",
       "2167.00      1\n",
       "Name: mass (g), Length: 12576, dtype: int64"
      ]
     },
     "execution_count": 111,
     "metadata": {},
     "output_type": "execute_result"
    }
   ],
   "source": [
    "met_df.info()\n",
    "met_df['mass (g)'].value_counts()\n"
   ]
  },
  {
   "cell_type": "markdown",
   "id": "93db276a",
   "metadata": {},
   "source": [
    "I'm not sure what data is in the id column, so I'm going to drop it.  Also, for the purposes of my analysis, I don't care if the name is valid or not, so that will be dropped as well.  The recclass is another column that holds data that I don't need to answer my questions, so it will be dropped.  Finally, I'm gonig to drop the GeoLocatoin column because the latitude and longitude are held in the \"reclat\" and \"reclong\" columns."
   ]
  },
  {
   "cell_type": "code",
   "execution_count": 112,
   "id": "6011510a",
   "metadata": {},
   "outputs": [
    {
     "data": {
      "text/html": [
       "<div>\n",
       "<style scoped>\n",
       "    .dataframe tbody tr th:only-of-type {\n",
       "        vertical-align: middle;\n",
       "    }\n",
       "\n",
       "    .dataframe tbody tr th {\n",
       "        vertical-align: top;\n",
       "    }\n",
       "\n",
       "    .dataframe thead th {\n",
       "        text-align: right;\n",
       "    }\n",
       "</style>\n",
       "<table border=\"1\" class=\"dataframe\">\n",
       "  <thead>\n",
       "    <tr style=\"text-align: right;\">\n",
       "      <th></th>\n",
       "      <th>name</th>\n",
       "      <th>mass (g)</th>\n",
       "      <th>fall</th>\n",
       "      <th>year</th>\n",
       "      <th>reclat</th>\n",
       "      <th>reclong</th>\n",
       "    </tr>\n",
       "  </thead>\n",
       "  <tbody>\n",
       "    <tr>\n",
       "      <th>0</th>\n",
       "      <td>Aachen</td>\n",
       "      <td>21.0</td>\n",
       "      <td>Fell</td>\n",
       "      <td>1880.0</td>\n",
       "      <td>50.77500</td>\n",
       "      <td>6.08333</td>\n",
       "    </tr>\n",
       "    <tr>\n",
       "      <th>1</th>\n",
       "      <td>Aarhus</td>\n",
       "      <td>720.0</td>\n",
       "      <td>Fell</td>\n",
       "      <td>1951.0</td>\n",
       "      <td>56.18333</td>\n",
       "      <td>10.23333</td>\n",
       "    </tr>\n",
       "    <tr>\n",
       "      <th>2</th>\n",
       "      <td>Abee</td>\n",
       "      <td>107000.0</td>\n",
       "      <td>Fell</td>\n",
       "      <td>1952.0</td>\n",
       "      <td>54.21667</td>\n",
       "      <td>-113.00000</td>\n",
       "    </tr>\n",
       "    <tr>\n",
       "      <th>3</th>\n",
       "      <td>Acapulco</td>\n",
       "      <td>1914.0</td>\n",
       "      <td>Fell</td>\n",
       "      <td>1976.0</td>\n",
       "      <td>16.88333</td>\n",
       "      <td>-99.90000</td>\n",
       "    </tr>\n",
       "    <tr>\n",
       "      <th>4</th>\n",
       "      <td>Achiras</td>\n",
       "      <td>780.0</td>\n",
       "      <td>Fell</td>\n",
       "      <td>1902.0</td>\n",
       "      <td>-33.16667</td>\n",
       "      <td>-64.95000</td>\n",
       "    </tr>\n",
       "  </tbody>\n",
       "</table>\n",
       "</div>"
      ],
      "text/plain": [
       "       name  mass (g)  fall    year    reclat    reclong\n",
       "0    Aachen      21.0  Fell  1880.0  50.77500    6.08333\n",
       "1    Aarhus     720.0  Fell  1951.0  56.18333   10.23333\n",
       "2      Abee  107000.0  Fell  1952.0  54.21667 -113.00000\n",
       "3  Acapulco    1914.0  Fell  1976.0  16.88333  -99.90000\n",
       "4   Achiras     780.0  Fell  1902.0 -33.16667  -64.95000"
      ]
     },
     "execution_count": 112,
     "metadata": {},
     "output_type": "execute_result"
    }
   ],
   "source": [
    "met_df = met_df.drop(columns=['id','nametype','recclass', 'GeoLocation'])\n",
    "met_df.head()"
   ]
  },
  {
   "cell_type": "markdown",
   "id": "7e62bd74",
   "metadata": {},
   "source": [
    "What are the values of the 'fall' column?"
   ]
  },
  {
   "cell_type": "code",
   "execution_count": 113,
   "id": "66a5a163",
   "metadata": {},
   "outputs": [
    {
     "data": {
      "text/plain": [
       "Found    44609\n",
       "Fell      1107\n",
       "Name: fall, dtype: int64"
      ]
     },
     "execution_count": 113,
     "metadata": {},
     "output_type": "execute_result"
    }
   ],
   "source": [
    "met_df['fall'].value_counts()"
   ]
  },
  {
   "cell_type": "markdown",
   "id": "31f1cd0c",
   "metadata": {},
   "source": [
    "Okay, it looks like this column is either showing if the meteor was witnessed to have fallen that year or if it was found that year.  This might have an effect on the data.  Is it possible that a meteor was found several years after it had fallen?  That would rally skew the data for the question about meteorites getting larger or smaller over the years.  When I get to that question, I'm only going to use the 'Fell' rows of the dataset.\n",
    "\n",
    "With this new information, I'm going to adjust my first two questions to reflect this difference of being found versus being witnessed to fall.\n",
    "\n",
    "The first question will be revised to: What is the oldest meteroite that was witnessed to have fallen?  What is the oldest meteorite that was found?"
   ]
  },
  {
   "cell_type": "code",
   "execution_count": 114,
   "id": "ba0066fc",
   "metadata": {},
   "outputs": [
    {
     "data": {
      "text/html": [
       "<div>\n",
       "<style scoped>\n",
       "    .dataframe tbody tr th:only-of-type {\n",
       "        vertical-align: middle;\n",
       "    }\n",
       "\n",
       "    .dataframe tbody tr th {\n",
       "        vertical-align: top;\n",
       "    }\n",
       "\n",
       "    .dataframe thead th {\n",
       "        text-align: right;\n",
       "    }\n",
       "</style>\n",
       "<table border=\"1\" class=\"dataframe\">\n",
       "  <thead>\n",
       "    <tr style=\"text-align: right;\">\n",
       "      <th></th>\n",
       "      <th>name</th>\n",
       "      <th>mass (g)</th>\n",
       "      <th>fall</th>\n",
       "      <th>year</th>\n",
       "      <th>reclat</th>\n",
       "      <th>reclong</th>\n",
       "    </tr>\n",
       "  </thead>\n",
       "  <tbody>\n",
       "    <tr>\n",
       "      <th>704</th>\n",
       "      <td>Nogata</td>\n",
       "      <td>472.0</td>\n",
       "      <td>Fell</td>\n",
       "      <td>860.0</td>\n",
       "      <td>33.72500</td>\n",
       "      <td>130.75000</td>\n",
       "    </tr>\n",
       "    <tr>\n",
       "      <th>679</th>\n",
       "      <td>Narni</td>\n",
       "      <td>NaN</td>\n",
       "      <td>Fell</td>\n",
       "      <td>920.0</td>\n",
       "      <td>42.51667</td>\n",
       "      <td>12.51667</td>\n",
       "    </tr>\n",
       "    <tr>\n",
       "      <th>278</th>\n",
       "      <td>Elbogen</td>\n",
       "      <td>107000.0</td>\n",
       "      <td>Fell</td>\n",
       "      <td>1399.0</td>\n",
       "      <td>50.18333</td>\n",
       "      <td>12.73333</td>\n",
       "    </tr>\n",
       "    <tr>\n",
       "      <th>856</th>\n",
       "      <td>Rivolta de Bassi</td>\n",
       "      <td>103.3</td>\n",
       "      <td>Fell</td>\n",
       "      <td>1490.0</td>\n",
       "      <td>45.48333</td>\n",
       "      <td>9.51667</td>\n",
       "    </tr>\n",
       "    <tr>\n",
       "      <th>283</th>\n",
       "      <td>Ensisheim</td>\n",
       "      <td>127000.0</td>\n",
       "      <td>Fell</td>\n",
       "      <td>1491.0</td>\n",
       "      <td>47.86667</td>\n",
       "      <td>7.35000</td>\n",
       "    </tr>\n",
       "  </tbody>\n",
       "</table>\n",
       "</div>"
      ],
      "text/plain": [
       "                 name  mass (g)  fall    year    reclat    reclong\n",
       "704            Nogata     472.0  Fell   860.0  33.72500  130.75000\n",
       "679             Narni       NaN  Fell   920.0  42.51667   12.51667\n",
       "278           Elbogen  107000.0  Fell  1399.0  50.18333   12.73333\n",
       "856  Rivolta de Bassi     103.3  Fell  1490.0  45.48333    9.51667\n",
       "283         Ensisheim  127000.0  Fell  1491.0  47.86667    7.35000"
      ]
     },
     "execution_count": 114,
     "metadata": {},
     "output_type": "execute_result"
    }
   ],
   "source": [
    "met_df = met_df.sort_values(by='year')\n",
    "met_df.head()"
   ]
  },
  {
   "cell_type": "markdown",
   "id": "9d21c732",
   "metadata": {},
   "source": [
    "The oldest meteorite that was witnessed falling to the earth was the Nogata meteorite, which fell in the 860.  I found this to be very interesting and looked this meteorite up.\n",
    "\n",
    "From Wikipedia: \"It is believed to be the oldest fragment associated with a sighting of a meteor fall. Witnessed by a young boy on May 19, 861, who led others to the impact site, it was accepted as having come from the sky.\"\n",
    "\n",
    "This fragment is actually on display and you can view it at a Shinto shrine in Nogata, Japan.\n",
    "\n",
    "It will be interesting to see how the size of this meteor (472 g) compares to other meteors."
   ]
  },
  {
   "cell_type": "code",
   "execution_count": 115,
   "id": "159448c1",
   "metadata": {},
   "outputs": [
    {
     "data": {
      "text/html": [
       "<div>\n",
       "<style scoped>\n",
       "    .dataframe tbody tr th:only-of-type {\n",
       "        vertical-align: middle;\n",
       "    }\n",
       "\n",
       "    .dataframe tbody tr th {\n",
       "        vertical-align: top;\n",
       "    }\n",
       "\n",
       "    .dataframe thead th {\n",
       "        text-align: right;\n",
       "    }\n",
       "</style>\n",
       "<table border=\"1\" class=\"dataframe\">\n",
       "  <thead>\n",
       "    <tr style=\"text-align: right;\">\n",
       "      <th></th>\n",
       "      <th>name</th>\n",
       "      <th>mass (g)</th>\n",
       "      <th>fall</th>\n",
       "      <th>year</th>\n",
       "      <th>reclat</th>\n",
       "      <th>reclong</th>\n",
       "    </tr>\n",
       "  </thead>\n",
       "  <tbody>\n",
       "    <tr>\n",
       "      <th>5365</th>\n",
       "      <td>Campo del Cielo</td>\n",
       "      <td>50000000.0</td>\n",
       "      <td>Found</td>\n",
       "      <td>1575.0</td>\n",
       "      <td>-27.46667</td>\n",
       "      <td>-60.58333</td>\n",
       "    </tr>\n",
       "    <tr>\n",
       "      <th>26174</th>\n",
       "      <td>Morito</td>\n",
       "      <td>10100000.0</td>\n",
       "      <td>Found</td>\n",
       "      <td>1600.0</td>\n",
       "      <td>27.05000</td>\n",
       "      <td>-105.43333</td>\n",
       "    </tr>\n",
       "    <tr>\n",
       "      <th>37632</th>\n",
       "      <td>Siratik</td>\n",
       "      <td>1700.0</td>\n",
       "      <td>Found</td>\n",
       "      <td>1716.0</td>\n",
       "      <td>14.00000</td>\n",
       "      <td>-11.00000</td>\n",
       "    </tr>\n",
       "    <tr>\n",
       "      <th>37719</th>\n",
       "      <td>Steinbach</td>\n",
       "      <td>98000.0</td>\n",
       "      <td>Found</td>\n",
       "      <td>1724.0</td>\n",
       "      <td>50.50000</td>\n",
       "      <td>12.50000</td>\n",
       "    </tr>\n",
       "    <tr>\n",
       "      <th>17384</th>\n",
       "      <td>Krasnojarsk</td>\n",
       "      <td>700000.0</td>\n",
       "      <td>Found</td>\n",
       "      <td>1749.0</td>\n",
       "      <td>54.90000</td>\n",
       "      <td>91.80000</td>\n",
       "    </tr>\n",
       "  </tbody>\n",
       "</table>\n",
       "</div>"
      ],
      "text/plain": [
       "                  name    mass (g)   fall    year    reclat    reclong\n",
       "5365   Campo del Cielo  50000000.0  Found  1575.0 -27.46667  -60.58333\n",
       "26174           Morito  10100000.0  Found  1600.0  27.05000 -105.43333\n",
       "37632          Siratik      1700.0  Found  1716.0  14.00000  -11.00000\n",
       "37719        Steinbach     98000.0  Found  1724.0  50.50000   12.50000\n",
       "17384      Krasnojarsk    700000.0  Found  1749.0  54.90000   91.80000"
      ]
     },
     "execution_count": 115,
     "metadata": {},
     "output_type": "execute_result"
    }
   ],
   "source": [
    "met_df_found = met_df[met_df['fall'] == 'Found']\n",
    "met_df_found.sort_values(by = 'year')\n",
    "met_df_found.head()"
   ]
  },
  {
   "cell_type": "markdown",
   "id": "43d87a60",
   "metadata": {},
   "source": [
    "Campo del Cielo is not a single meteorite, but rather a group of meteorites.  \n",
    "\n",
    "From Wikipedia: 'Campo del Cielo refers to a group of iron meteorites and the area in Argentina where they were found. The site straddles the provinces of Chaco and Santiago del Estero, located 1,000 kilometers (620 mi) north-northwest of Buenos Aires, Argentina and approximately 500 kilometres (310 mi) southwest of Asunción, Paraguay. The crater field covers 18.5 by 3 kilometres (11.5 by 1.9 mi) and contains at least 26 craters, the largest being 115 by 91 metres (377 by 299 ft).'\n",
    "\n",
    "While this meteorite field was found in 1575, it is believed to be 5000 years old."
   ]
  },
  {
   "cell_type": "code",
   "execution_count": 116,
   "id": "4765b93e",
   "metadata": {},
   "outputs": [
    {
     "data": {
      "text/html": [
       "<div>\n",
       "<style scoped>\n",
       "    .dataframe tbody tr th:only-of-type {\n",
       "        vertical-align: middle;\n",
       "    }\n",
       "\n",
       "    .dataframe tbody tr th {\n",
       "        vertical-align: top;\n",
       "    }\n",
       "\n",
       "    .dataframe thead th {\n",
       "        text-align: right;\n",
       "    }\n",
       "</style>\n",
       "<table border=\"1\" class=\"dataframe\">\n",
       "  <thead>\n",
       "    <tr style=\"text-align: right;\">\n",
       "      <th></th>\n",
       "      <th>name</th>\n",
       "      <th>mass (g)</th>\n",
       "      <th>fall</th>\n",
       "      <th>year</th>\n",
       "      <th>reclat</th>\n",
       "      <th>reclong</th>\n",
       "    </tr>\n",
       "  </thead>\n",
       "  <tbody>\n",
       "    <tr>\n",
       "      <th>30682</th>\n",
       "      <td>Northwest Africa 7701</td>\n",
       "      <td>55.0</td>\n",
       "      <td>Found</td>\n",
       "      <td>2101.0</td>\n",
       "      <td>0.0</td>\n",
       "      <td>0.0</td>\n",
       "    </tr>\n",
       "    <tr>\n",
       "      <th>30777</th>\n",
       "      <td>Northwest Africa 7858</td>\n",
       "      <td>459.0</td>\n",
       "      <td>Found</td>\n",
       "      <td>2013.0</td>\n",
       "      <td>0.0</td>\n",
       "      <td>0.0</td>\n",
       "    </tr>\n",
       "    <tr>\n",
       "      <th>30781</th>\n",
       "      <td>Northwest Africa 7863</td>\n",
       "      <td>1000.0</td>\n",
       "      <td>Found</td>\n",
       "      <td>2013.0</td>\n",
       "      <td>0.0</td>\n",
       "      <td>0.0</td>\n",
       "    </tr>\n",
       "    <tr>\n",
       "      <th>30780</th>\n",
       "      <td>Northwest Africa 7862</td>\n",
       "      <td>317.0</td>\n",
       "      <td>Found</td>\n",
       "      <td>2013.0</td>\n",
       "      <td>0.0</td>\n",
       "      <td>0.0</td>\n",
       "    </tr>\n",
       "    <tr>\n",
       "      <th>30779</th>\n",
       "      <td>Northwest Africa 7861</td>\n",
       "      <td>611.0</td>\n",
       "      <td>Found</td>\n",
       "      <td>2013.0</td>\n",
       "      <td>0.0</td>\n",
       "      <td>0.0</td>\n",
       "    </tr>\n",
       "  </tbody>\n",
       "</table>\n",
       "</div>"
      ],
      "text/plain": [
       "                        name  mass (g)   fall    year  reclat  reclong\n",
       "30682  Northwest Africa 7701      55.0  Found  2101.0     0.0      0.0\n",
       "30777  Northwest Africa 7858     459.0  Found  2013.0     0.0      0.0\n",
       "30781  Northwest Africa 7863    1000.0  Found  2013.0     0.0      0.0\n",
       "30780  Northwest Africa 7862     317.0  Found  2013.0     0.0      0.0\n",
       "30779  Northwest Africa 7861     611.0  Found  2013.0     0.0      0.0"
      ]
     },
     "execution_count": 116,
     "metadata": {},
     "output_type": "execute_result"
    }
   ],
   "source": [
    "met_df = met_df.sort_values(by='year', ascending=False)\n",
    "met_df.head()"
   ]
  },
  {
   "cell_type": "markdown",
   "id": "8dd8ebf5",
   "metadata": {},
   "source": [
    "It looks like the most recent meteorites on record were found in Northwest Africa.  The year 2101 is obviously a typo and should more than likely be 2011, making the meteors found in 2013 the most recent.  What is interesting is that there are latitude and longitude coordinates for the older meteorites that were found or witnessed to fall, but not for these more recent finds."
   ]
  },
  {
   "cell_type": "code",
   "execution_count": 117,
   "id": "a1f6c819",
   "metadata": {},
   "outputs": [
    {
     "data": {
      "text/html": [
       "<div>\n",
       "<style scoped>\n",
       "    .dataframe tbody tr th:only-of-type {\n",
       "        vertical-align: middle;\n",
       "    }\n",
       "\n",
       "    .dataframe tbody tr th {\n",
       "        vertical-align: top;\n",
       "    }\n",
       "\n",
       "    .dataframe thead th {\n",
       "        text-align: right;\n",
       "    }\n",
       "</style>\n",
       "<table border=\"1\" class=\"dataframe\">\n",
       "  <thead>\n",
       "    <tr style=\"text-align: right;\">\n",
       "      <th></th>\n",
       "      <th>name</th>\n",
       "      <th>mass (g)</th>\n",
       "      <th>fall</th>\n",
       "      <th>year</th>\n",
       "      <th>reclat</th>\n",
       "      <th>reclong</th>\n",
       "    </tr>\n",
       "  </thead>\n",
       "  <tbody>\n",
       "    <tr>\n",
       "      <th>194</th>\n",
       "      <td>Chelyabinsk</td>\n",
       "      <td>100000.0</td>\n",
       "      <td>Fell</td>\n",
       "      <td>2013.0</td>\n",
       "      <td>54.81667</td>\n",
       "      <td>61.11667</td>\n",
       "    </tr>\n",
       "    <tr>\n",
       "      <th>86</th>\n",
       "      <td>Battle Mountain</td>\n",
       "      <td>2900.0</td>\n",
       "      <td>Fell</td>\n",
       "      <td>2012.0</td>\n",
       "      <td>40.66813</td>\n",
       "      <td>-117.18913</td>\n",
       "    </tr>\n",
       "    <tr>\n",
       "      <th>969</th>\n",
       "      <td>Sutter's Mill</td>\n",
       "      <td>992.5</td>\n",
       "      <td>Fell</td>\n",
       "      <td>2012.0</td>\n",
       "      <td>38.80389</td>\n",
       "      <td>-120.90806</td>\n",
       "    </tr>\n",
       "    <tr>\n",
       "      <th>138</th>\n",
       "      <td>Boumdeid (2011)</td>\n",
       "      <td>3599.0</td>\n",
       "      <td>Fell</td>\n",
       "      <td>2011.0</td>\n",
       "      <td>17.17493</td>\n",
       "      <td>-11.34133</td>\n",
       "    </tr>\n",
       "    <tr>\n",
       "      <th>996</th>\n",
       "      <td>Tissint</td>\n",
       "      <td>7000.0</td>\n",
       "      <td>Fell</td>\n",
       "      <td>2011.0</td>\n",
       "      <td>29.48195</td>\n",
       "      <td>-7.61123</td>\n",
       "    </tr>\n",
       "  </tbody>\n",
       "</table>\n",
       "</div>"
      ],
      "text/plain": [
       "                name  mass (g)  fall    year    reclat    reclong\n",
       "194      Chelyabinsk  100000.0  Fell  2013.0  54.81667   61.11667\n",
       "86   Battle Mountain    2900.0  Fell  2012.0  40.66813 -117.18913\n",
       "969    Sutter's Mill     992.5  Fell  2012.0  38.80389 -120.90806\n",
       "138  Boumdeid (2011)    3599.0  Fell  2011.0  17.17493  -11.34133\n",
       "996          Tissint    7000.0  Fell  2011.0  29.48195   -7.61123"
      ]
     },
     "execution_count": 117,
     "metadata": {},
     "output_type": "execute_result"
    }
   ],
   "source": [
    "met_df_fell = met_df[met_df['fall'] == 'Fell']\n",
    "met_df_fell = met_df_fell.sort_values(by='year', ascending=False)\n",
    "met_df_fell.head()"
   ]
  },
  {
   "cell_type": "markdown",
   "id": "082315b3",
   "metadata": {},
   "source": [
    "It looks like the most recent meteorite in this dataset that was see falling is also from 2013 and it fell on Chelyabinsk, Russia.\n",
    "\n",
    "From Wikipedia: The Chelyabinsk meteorite (Russian: Челябинский метеорит, Chelyabinskii meteorit) is the fragmented remains of the large Chelyabinsk meteor of 15 February 2013 which reached the ground after the meteor's passage through the atmosphere. The descent of the meteor, visible as a brilliant superbolide in the morning sky, caused a series of shock waves that shattered windows, damaged approximately 7,200 buildings and left 1,491 people injured. The resulting fragments were scattered over a wide area.\n",
    "\n",
    "With the oldest and most recent meteorites accounted for, I would like to know which meteor was the largest to fall, and while I'm at it, I'll also find the smallest.\n"
   ]
  },
  {
   "cell_type": "code",
   "execution_count": 118,
   "id": "81a6b82c",
   "metadata": {},
   "outputs": [
    {
     "data": {
      "text/html": [
       "<div>\n",
       "<style scoped>\n",
       "    .dataframe tbody tr th:only-of-type {\n",
       "        vertical-align: middle;\n",
       "    }\n",
       "\n",
       "    .dataframe tbody tr th {\n",
       "        vertical-align: top;\n",
       "    }\n",
       "\n",
       "    .dataframe thead th {\n",
       "        text-align: right;\n",
       "    }\n",
       "</style>\n",
       "<table border=\"1\" class=\"dataframe\">\n",
       "  <thead>\n",
       "    <tr style=\"text-align: right;\">\n",
       "      <th></th>\n",
       "      <th>name</th>\n",
       "      <th>mass (g)</th>\n",
       "      <th>fall</th>\n",
       "      <th>year</th>\n",
       "      <th>reclat</th>\n",
       "      <th>reclong</th>\n",
       "      <th>mass (kg)</th>\n",
       "    </tr>\n",
       "  </thead>\n",
       "  <tbody>\n",
       "    <tr>\n",
       "      <th>16392</th>\n",
       "      <td>Hoba</td>\n",
       "      <td>60000000.0</td>\n",
       "      <td>Found</td>\n",
       "      <td>1920.0</td>\n",
       "      <td>-19.58333</td>\n",
       "      <td>17.91667</td>\n",
       "      <td>60000.0</td>\n",
       "    </tr>\n",
       "    <tr>\n",
       "      <th>5373</th>\n",
       "      <td>Cape York</td>\n",
       "      <td>58200000.0</td>\n",
       "      <td>Found</td>\n",
       "      <td>1818.0</td>\n",
       "      <td>76.13333</td>\n",
       "      <td>-64.93333</td>\n",
       "      <td>58200.0</td>\n",
       "    </tr>\n",
       "    <tr>\n",
       "      <th>5365</th>\n",
       "      <td>Campo del Cielo</td>\n",
       "      <td>50000000.0</td>\n",
       "      <td>Found</td>\n",
       "      <td>1575.0</td>\n",
       "      <td>-27.46667</td>\n",
       "      <td>-60.58333</td>\n",
       "      <td>50000.0</td>\n",
       "    </tr>\n",
       "    <tr>\n",
       "      <th>5370</th>\n",
       "      <td>Canyon Diablo</td>\n",
       "      <td>30000000.0</td>\n",
       "      <td>Found</td>\n",
       "      <td>1891.0</td>\n",
       "      <td>35.05000</td>\n",
       "      <td>-111.03333</td>\n",
       "      <td>30000.0</td>\n",
       "    </tr>\n",
       "    <tr>\n",
       "      <th>3455</th>\n",
       "      <td>Armanty</td>\n",
       "      <td>28000000.0</td>\n",
       "      <td>Found</td>\n",
       "      <td>1898.0</td>\n",
       "      <td>47.00000</td>\n",
       "      <td>88.00000</td>\n",
       "      <td>28000.0</td>\n",
       "    </tr>\n",
       "  </tbody>\n",
       "</table>\n",
       "</div>"
      ],
      "text/plain": [
       "                  name    mass (g)   fall    year    reclat    reclong  \\\n",
       "16392             Hoba  60000000.0  Found  1920.0 -19.58333   17.91667   \n",
       "5373         Cape York  58200000.0  Found  1818.0  76.13333  -64.93333   \n",
       "5365   Campo del Cielo  50000000.0  Found  1575.0 -27.46667  -60.58333   \n",
       "5370     Canyon Diablo  30000000.0  Found  1891.0  35.05000 -111.03333   \n",
       "3455           Armanty  28000000.0  Found  1898.0  47.00000   88.00000   \n",
       "\n",
       "       mass (kg)  \n",
       "16392    60000.0  \n",
       "5373     58200.0  \n",
       "5365     50000.0  \n",
       "5370     30000.0  \n",
       "3455     28000.0  "
      ]
     },
     "execution_count": 118,
     "metadata": {},
     "output_type": "execute_result"
    }
   ],
   "source": [
    "met_df['mass (kg)'] = met_df['mass (g)']/1000\n",
    "met_df = met_df.sort_values(by='mass (g)', ascending=False)\n",
    "met_df.head()"
   ]
  },
  {
   "cell_type": "code",
   "execution_count": 119,
   "id": "ce268f1a",
   "metadata": {},
   "outputs": [
    {
     "data": {
      "text/html": [
       "<div>\n",
       "<style scoped>\n",
       "    .dataframe tbody tr th:only-of-type {\n",
       "        vertical-align: middle;\n",
       "    }\n",
       "\n",
       "    .dataframe tbody tr th {\n",
       "        vertical-align: top;\n",
       "    }\n",
       "\n",
       "    .dataframe thead th {\n",
       "        text-align: right;\n",
       "    }\n",
       "</style>\n",
       "<table border=\"1\" class=\"dataframe\">\n",
       "  <thead>\n",
       "    <tr style=\"text-align: right;\">\n",
       "      <th></th>\n",
       "      <th>name</th>\n",
       "      <th>mass (g)</th>\n",
       "      <th>fall</th>\n",
       "      <th>year</th>\n",
       "      <th>reclat</th>\n",
       "      <th>reclong</th>\n",
       "      <th>mass (kg)</th>\n",
       "    </tr>\n",
       "  </thead>\n",
       "  <tbody>\n",
       "    <tr>\n",
       "      <th>920</th>\n",
       "      <td>Sikhote-Alin</td>\n",
       "      <td>23000000.0</td>\n",
       "      <td>Fell</td>\n",
       "      <td>1947.0</td>\n",
       "      <td>46.16000</td>\n",
       "      <td>134.65333</td>\n",
       "      <td>23000.0</td>\n",
       "    </tr>\n",
       "    <tr>\n",
       "      <th>419</th>\n",
       "      <td>Jilin</td>\n",
       "      <td>4000000.0</td>\n",
       "      <td>Fell</td>\n",
       "      <td>1976.0</td>\n",
       "      <td>44.05000</td>\n",
       "      <td>126.16667</td>\n",
       "      <td>4000.0</td>\n",
       "    </tr>\n",
       "    <tr>\n",
       "      <th>29</th>\n",
       "      <td>Allende</td>\n",
       "      <td>2000000.0</td>\n",
       "      <td>Fell</td>\n",
       "      <td>1969.0</td>\n",
       "      <td>26.96667</td>\n",
       "      <td>-105.31667</td>\n",
       "      <td>2000.0</td>\n",
       "    </tr>\n",
       "    <tr>\n",
       "      <th>707</th>\n",
       "      <td>Norton County</td>\n",
       "      <td>1100000.0</td>\n",
       "      <td>Fell</td>\n",
       "      <td>1948.0</td>\n",
       "      <td>39.68333</td>\n",
       "      <td>-99.86667</td>\n",
       "      <td>1100.0</td>\n",
       "    </tr>\n",
       "    <tr>\n",
       "      <th>506</th>\n",
       "      <td>Kunya-Urgench</td>\n",
       "      <td>1100000.0</td>\n",
       "      <td>Fell</td>\n",
       "      <td>1998.0</td>\n",
       "      <td>42.25000</td>\n",
       "      <td>59.20000</td>\n",
       "      <td>1100.0</td>\n",
       "    </tr>\n",
       "  </tbody>\n",
       "</table>\n",
       "</div>"
      ],
      "text/plain": [
       "              name    mass (g)  fall    year    reclat    reclong  mass (kg)\n",
       "920   Sikhote-Alin  23000000.0  Fell  1947.0  46.16000  134.65333    23000.0\n",
       "419          Jilin   4000000.0  Fell  1976.0  44.05000  126.16667     4000.0\n",
       "29         Allende   2000000.0  Fell  1969.0  26.96667 -105.31667     2000.0\n",
       "707  Norton County   1100000.0  Fell  1948.0  39.68333  -99.86667     1100.0\n",
       "506  Kunya-Urgench   1100000.0  Fell  1998.0  42.25000   59.20000     1100.0"
      ]
     },
     "execution_count": 119,
     "metadata": {},
     "output_type": "execute_result"
    }
   ],
   "source": [
    "met_df_fell['mass (kg)'] = met_df_fell['mass (g)']/1000\n",
    "met_df_fell = met_df_fell.sort_values(by='mass (g)', ascending=False)\n",
    "met_df_fell.head()"
   ]
  },
  {
   "cell_type": "markdown",
   "id": "45890378",
   "metadata": {},
   "source": [
    "After sorting these dataframes by the mass of the meteorites, I saw that the measurement in grams was far too large of a number to make sense of, so I added a column showing the mass in kilograms.  \n",
    "\n",
    "The largest meteorite that has been found has a mass of 60,000kg.  It is the Hoba meteorite located in Namibia, South Africa and was found in 1920.\n",
    "\n",
    "From Wikipedia: The Hoba (/ˈhoʊbə/ HOH-bə) meteorite is named after the farm Hoba West, where it lies, not far from Grootfontein, in the Otjozondjupa Region of Namibia. It has been uncovered, but because of its large mass, has never been moved from where it fell. The main mass is estimated at more than 60 tonnes. It is the largest known intact meteorite (as a single piece) and about twice as massive as the largest fragment of either the Cape York meteorite's 31-tonne Ahnighito kept in the American Museum of Natural History or the Campo del Cielo's 31-tonne Gancedo in Argentina. It is also the most massive naturally occurring piece of iron (actually ferronickel) known on Earth's surface. The name \"Hoba\" comes from a Khoekhoegowab word meaning \"gift\". Following its donation to the government in 1987, a visitor centre was constructed with a circular stone access and seating area.\n",
    "\n",
    "The largest meteorite that was witnessed falling to the earth was the Sikhote-Alin, which has a mass of 23,000kg.  This meteorite was witnessed falling to the ground in 1947 in the Sikhote-Alin mountain range in the Soviet Union.\n",
    "\n",
    "From Wikipedia: At around 10:30 AM on 12 February 1947, eyewitnesses in the Sikhote-Alin Mountains, Primorye, Soviet Union, observed a large bolide brighter than the sun that came out of the north and descended at an angle of about 41 degrees. The bright flash and the deafening sound of the fall were observed for 300 kilometres (190 mi) around the point of impact not far from Luchegorsk and approximately 440 km (270 mi) northeast of Vladivostok. A smoke trail, estimated at 32 km (20 mi) long, remained in the sky for several hours.\n",
    "\n",
    "It's pretty interesting that so far, the most recent and the largest meteorites in the dataset are both from Russia.  I wonder if more meteorites fall in the this part of the world than anywhere else.\n",
    "\n",
    "To find out, I will create a column called \"Quadrants\" and assign every meteorite the value of \"northeast\", \"northwest\", \"southeast\", or \"southwest\" depending on their longitude and lattitude."
   ]
  },
  {
   "cell_type": "markdown",
   "id": "cc7be348",
   "metadata": {},
   "source": [
    "There were 2,190 meteorites eitehr found or witnessed falling in the NW Hemisphere.  This includes North America, the northernmost tip of South America, the westernmost tip of Africa, Spain, the British Isles, and Iceland."
   ]
  },
  {
   "cell_type": "code",
   "execution_count": 120,
   "id": "e547ee8a",
   "metadata": {},
   "outputs": [
    {
     "data": {
      "text/html": [
       "<div>\n",
       "<style scoped>\n",
       "    .dataframe tbody tr th:only-of-type {\n",
       "        vertical-align: middle;\n",
       "    }\n",
       "\n",
       "    .dataframe tbody tr th {\n",
       "        vertical-align: top;\n",
       "    }\n",
       "\n",
       "    .dataframe thead th {\n",
       "        text-align: right;\n",
       "    }\n",
       "</style>\n",
       "<table border=\"1\" class=\"dataframe\">\n",
       "  <thead>\n",
       "    <tr style=\"text-align: right;\">\n",
       "      <th></th>\n",
       "      <th>name</th>\n",
       "      <th>mass (g)</th>\n",
       "      <th>fall</th>\n",
       "      <th>year</th>\n",
       "      <th>reclat</th>\n",
       "      <th>reclong</th>\n",
       "      <th>mass (kg)</th>\n",
       "      <th>N or S Hemisphere</th>\n",
       "      <th>E or W Hemisphere</th>\n",
       "    </tr>\n",
       "  </thead>\n",
       "  <tbody>\n",
       "    <tr>\n",
       "      <th>16392</th>\n",
       "      <td>Hoba</td>\n",
       "      <td>60000000.0</td>\n",
       "      <td>Found</td>\n",
       "      <td>1920.0</td>\n",
       "      <td>-19.58333</td>\n",
       "      <td>17.91667</td>\n",
       "      <td>60000.0</td>\n",
       "      <td>South</td>\n",
       "      <td>East</td>\n",
       "    </tr>\n",
       "    <tr>\n",
       "      <th>5373</th>\n",
       "      <td>Cape York</td>\n",
       "      <td>58200000.0</td>\n",
       "      <td>Found</td>\n",
       "      <td>1818.0</td>\n",
       "      <td>76.13333</td>\n",
       "      <td>-64.93333</td>\n",
       "      <td>58200.0</td>\n",
       "      <td>North</td>\n",
       "      <td>West</td>\n",
       "    </tr>\n",
       "    <tr>\n",
       "      <th>5365</th>\n",
       "      <td>Campo del Cielo</td>\n",
       "      <td>50000000.0</td>\n",
       "      <td>Found</td>\n",
       "      <td>1575.0</td>\n",
       "      <td>-27.46667</td>\n",
       "      <td>-60.58333</td>\n",
       "      <td>50000.0</td>\n",
       "      <td>South</td>\n",
       "      <td>West</td>\n",
       "    </tr>\n",
       "    <tr>\n",
       "      <th>5370</th>\n",
       "      <td>Canyon Diablo</td>\n",
       "      <td>30000000.0</td>\n",
       "      <td>Found</td>\n",
       "      <td>1891.0</td>\n",
       "      <td>35.05000</td>\n",
       "      <td>-111.03333</td>\n",
       "      <td>30000.0</td>\n",
       "      <td>North</td>\n",
       "      <td>West</td>\n",
       "    </tr>\n",
       "    <tr>\n",
       "      <th>3455</th>\n",
       "      <td>Armanty</td>\n",
       "      <td>28000000.0</td>\n",
       "      <td>Found</td>\n",
       "      <td>1898.0</td>\n",
       "      <td>47.00000</td>\n",
       "      <td>88.00000</td>\n",
       "      <td>28000.0</td>\n",
       "      <td>North</td>\n",
       "      <td>East</td>\n",
       "    </tr>\n",
       "  </tbody>\n",
       "</table>\n",
       "</div>"
      ],
      "text/plain": [
       "                  name    mass (g)   fall    year    reclat    reclong  \\\n",
       "16392             Hoba  60000000.0  Found  1920.0 -19.58333   17.91667   \n",
       "5373         Cape York  58200000.0  Found  1818.0  76.13333  -64.93333   \n",
       "5365   Campo del Cielo  50000000.0  Found  1575.0 -27.46667  -60.58333   \n",
       "5370     Canyon Diablo  30000000.0  Found  1891.0  35.05000 -111.03333   \n",
       "3455           Armanty  28000000.0  Found  1898.0  47.00000   88.00000   \n",
       "\n",
       "       mass (kg) N or S Hemisphere E or W Hemisphere  \n",
       "16392    60000.0             South              East  \n",
       "5373     58200.0             North              West  \n",
       "5365     50000.0             South              West  \n",
       "5370     30000.0             North              West  \n",
       "3455     28000.0             North              East  "
      ]
     },
     "execution_count": 120,
     "metadata": {},
     "output_type": "execute_result"
    }
   ],
   "source": [
    "condition = (met_df['reclat'] > 0)\n",
    "met_df['N or S Hemisphere'] = np.where(condition, 'North', 'South')\n",
    "condition = (met_df['reclong'] > 0)\n",
    "met_df['E or W Hemisphere'] = np.where(condition, 'East', 'West')\n",
    "\n",
    "met_df.head()"
   ]
  },
  {
   "cell_type": "code",
   "execution_count": 121,
   "id": "7f6ceda3",
   "metadata": {},
   "outputs": [
    {
     "data": {
      "text/html": [
       "<div>\n",
       "<style scoped>\n",
       "    .dataframe tbody tr th:only-of-type {\n",
       "        vertical-align: middle;\n",
       "    }\n",
       "\n",
       "    .dataframe tbody tr th {\n",
       "        vertical-align: top;\n",
       "    }\n",
       "\n",
       "    .dataframe thead th {\n",
       "        text-align: right;\n",
       "    }\n",
       "</style>\n",
       "<table border=\"1\" class=\"dataframe\">\n",
       "  <thead>\n",
       "    <tr style=\"text-align: right;\">\n",
       "      <th></th>\n",
       "      <th>name</th>\n",
       "      <th>mass (g)</th>\n",
       "      <th>fall</th>\n",
       "      <th>year</th>\n",
       "      <th>reclat</th>\n",
       "      <th>reclong</th>\n",
       "      <th>mass (kg)</th>\n",
       "      <th>N or S Hemisphere</th>\n",
       "      <th>E or W Hemisphere</th>\n",
       "      <th>quadrant</th>\n",
       "    </tr>\n",
       "  </thead>\n",
       "  <tbody>\n",
       "    <tr>\n",
       "      <th>16392</th>\n",
       "      <td>Hoba</td>\n",
       "      <td>60000000.0</td>\n",
       "      <td>Found</td>\n",
       "      <td>1920.0</td>\n",
       "      <td>-19.58333</td>\n",
       "      <td>17.91667</td>\n",
       "      <td>60000.0</td>\n",
       "      <td>South</td>\n",
       "      <td>East</td>\n",
       "      <td>South-East</td>\n",
       "    </tr>\n",
       "    <tr>\n",
       "      <th>5373</th>\n",
       "      <td>Cape York</td>\n",
       "      <td>58200000.0</td>\n",
       "      <td>Found</td>\n",
       "      <td>1818.0</td>\n",
       "      <td>76.13333</td>\n",
       "      <td>-64.93333</td>\n",
       "      <td>58200.0</td>\n",
       "      <td>North</td>\n",
       "      <td>West</td>\n",
       "      <td>North-West</td>\n",
       "    </tr>\n",
       "    <tr>\n",
       "      <th>5365</th>\n",
       "      <td>Campo del Cielo</td>\n",
       "      <td>50000000.0</td>\n",
       "      <td>Found</td>\n",
       "      <td>1575.0</td>\n",
       "      <td>-27.46667</td>\n",
       "      <td>-60.58333</td>\n",
       "      <td>50000.0</td>\n",
       "      <td>South</td>\n",
       "      <td>West</td>\n",
       "      <td>South-West</td>\n",
       "    </tr>\n",
       "    <tr>\n",
       "      <th>5370</th>\n",
       "      <td>Canyon Diablo</td>\n",
       "      <td>30000000.0</td>\n",
       "      <td>Found</td>\n",
       "      <td>1891.0</td>\n",
       "      <td>35.05000</td>\n",
       "      <td>-111.03333</td>\n",
       "      <td>30000.0</td>\n",
       "      <td>North</td>\n",
       "      <td>West</td>\n",
       "      <td>North-West</td>\n",
       "    </tr>\n",
       "    <tr>\n",
       "      <th>3455</th>\n",
       "      <td>Armanty</td>\n",
       "      <td>28000000.0</td>\n",
       "      <td>Found</td>\n",
       "      <td>1898.0</td>\n",
       "      <td>47.00000</td>\n",
       "      <td>88.00000</td>\n",
       "      <td>28000.0</td>\n",
       "      <td>North</td>\n",
       "      <td>East</td>\n",
       "      <td>North-East</td>\n",
       "    </tr>\n",
       "  </tbody>\n",
       "</table>\n",
       "</div>"
      ],
      "text/plain": [
       "                  name    mass (g)   fall    year    reclat    reclong  \\\n",
       "16392             Hoba  60000000.0  Found  1920.0 -19.58333   17.91667   \n",
       "5373         Cape York  58200000.0  Found  1818.0  76.13333  -64.93333   \n",
       "5365   Campo del Cielo  50000000.0  Found  1575.0 -27.46667  -60.58333   \n",
       "5370     Canyon Diablo  30000000.0  Found  1891.0  35.05000 -111.03333   \n",
       "3455           Armanty  28000000.0  Found  1898.0  47.00000   88.00000   \n",
       "\n",
       "       mass (kg) N or S Hemisphere E or W Hemisphere    quadrant  \n",
       "16392    60000.0             South              East  South-East  \n",
       "5373     58200.0             North              West  North-West  \n",
       "5365     50000.0             South              West  South-West  \n",
       "5370     30000.0             North              West  North-West  \n",
       "3455     28000.0             North              East  North-East  "
      ]
     },
     "execution_count": 121,
     "metadata": {},
     "output_type": "execute_result"
    }
   ],
   "source": [
    "met_df['quadrant'] = met_df['N or S Hemisphere'].str.cat(met_df['E or W Hemisphere'], sep='-', )\n",
    "\n",
    "met_df.head()"
   ]
  },
  {
   "cell_type": "code",
   "execution_count": 122,
   "id": "93756bae",
   "metadata": {},
   "outputs": [],
   "source": [
    "se = met_df[met_df['quadrant'] == 'South-East']\n",
    "sw = met_df[met_df['quadrant'] == 'South-West']\n",
    "ne = met_df[met_df['quadrant'] == 'North-East']\n",
    "nw = met_df[met_df['quadrant'] == 'North-West']"
   ]
  },
  {
   "cell_type": "code",
   "execution_count": 123,
   "id": "2a0236ff",
   "metadata": {},
   "outputs": [
    {
     "data": {
      "text/plain": [
       "<BarContainer object of 4 artists>"
      ]
     },
     "execution_count": 123,
     "metadata": {},
     "output_type": "execute_result"
    },
    {
     "data": {
      "image/png": "[encoded data removed]",
      "text/plain": [
       "<Figure size 640x480 with 1 Axes>"
      ]
     },
     "metadata": {},
     "output_type": "display_data"
    }
   ],
   "source": [
    " heights = [len(se), len(sw), len(ne), len(nw)]\n",
    "quads = ['South-East', 'South-West', 'North-East', 'North-West']\n",
    "plt.bar(x=quads, height=heights)\n",
    "\n",
    "\n"
   ]
  },
  {
   "cell_type": "markdown",
   "id": "0804320b",
   "metadata": {},
   "source": [
    "The part of the planet that has had the most meteorite activity is the South-East, followed by the South-West.  This means that a vast majority of the meteorites that hit the earth hit below the Equator.\n",
    "\n",
    "I wonder what percentage of meteorites that hit the earth hit it in below the Equator"
   ]
  },
  {
   "cell_type": "code",
   "execution_count": 124,
   "id": "5e9da265",
   "metadata": {},
   "outputs": [
    {
     "data": {
      "text/plain": [
       "81.3"
      ]
     },
     "execution_count": 124,
     "metadata": {},
     "output_type": "execute_result"
    }
   ],
   "source": [
    "round((len(se) + len(sw))/(len(se) + len(sw) + len(ne) + len(nw))*100, 2)\n"
   ]
  },
  {
   "cell_type": "markdown",
   "id": "1c80556b",
   "metadata": {},
   "source": [
    "81.3% of all meteorites that hit the Earth hit it in the Southern Hemisphere.  That's really interesting.  I wonder if this means that you are 4 times more likely to see a meteor shower in the Southern Hemisphere as opposed to the Northern Hemisphere.  That's a question for another time, but according to this data, I would say that assumption could be made.\n",
    "\n",
    "I'm going to now analyze the mass of the meteorites.  I've already found the largest and the smallest.  I'm going to now find the mean, median, Q1, Q3, and look for any outliers"
   ]
  },
  {
   "cell_type": "code",
   "execution_count": 125,
   "id": "9830bf74",
   "metadata": {},
   "outputs": [
    {
     "name": "stdout",
     "output_type": "stream",
     "text": [
      "The mean mass of the meteorites in this dataset is 13.278.\n",
      "The median mass of the meteorites in this dataset is 0.033.\n"
     ]
    }
   ],
   "source": [
    "mass_mean = round(met_df['mass (kg)'].mean(), 3)\n",
    "print(\"The mean mass of the meteorites in this dataset is \" + str(mass_mean) +'.')\n",
    "mass_med = round(met_df['mass (kg)'].median(), 3)\n",
    "print('The median mass of the meteorites in this dataset is ' + str(mass_med) + '.')"
   ]
  },
  {
   "cell_type": "markdown",
   "id": "1807c0ec",
   "metadata": {},
   "source": [
    "The mean is much larger than the median suggesting data that is skewed far to the right.  A dot plot will help to visualize the distribution of masses."
   ]
  },
  {
   "cell_type": "code",
   "execution_count": 126,
   "id": "fc588381",
   "metadata": {},
   "outputs": [
    {
     "name": "stdout",
     "output_type": "stream",
     "text": [
      "0\n",
      "60000\n"
     ]
    }
   ],
   "source": [
    "small = int(min(met_df['mass (kg)']))\n",
    "big = int(max(met_df['mass (kg)']))\n",
    "print(small)\n",
    "print(big)"
   ]
  },
  {
   "cell_type": "code",
   "execution_count": 127,
   "id": "7aa565bd",
   "metadata": {},
   "outputs": [],
   "source": [
    "met_mass = met_df[(met_df['mass (kg)']>=0)&(met_df['mass (kg)']<=60000)]\n"
   ]
  },
  {
   "cell_type": "code",
   "execution_count": 128,
   "id": "c732cf46",
   "metadata": {},
   "outputs": [
    {
     "name": "stdout",
     "output_type": "stream",
     "text": [
      "<class 'pandas.core.series.Series'>\n",
      "Int64Index: 45585 entries, 16392 to 31066\n",
      "Series name: mass (kg)\n",
      "Non-Null Count  Dtype\n",
      "--------------  -----\n",
      "45585 non-null  int64\n",
      "dtypes: int64(1)\n",
      "memory usage: 712.3 KB\n"
     ]
    }
   ],
   "source": [
    "met_mass=met_mass['mass (kg)'].astype(int)\n",
    "met_mass.info()"
   ]
  },
  {
   "cell_type": "code",
   "execution_count": 129,
   "id": "abd5f427",
   "metadata": {},
   "outputs": [
    {
     "data": {
      "image/png": "[encoded data removed]",
      "text/plain": [
       "<Figure size 640x480 with 1 Axes>"
      ]
     },
     "metadata": {},
     "output_type": "display_data"
    }
   ],
   "source": [
    "met_mass_kg = met_df[(met_df['mass (kg)']>=0)&(met_df['mass (kg)']<=60000)]\n",
    "met_mass_kg = met_mass_kg['mass (kg)'].astype(int)\n",
    "met_mass_kg.head()\n",
    "binwidth = 500\n",
    "plt.title(\"Mass of Meteorites (kg)\")\n",
    "plt.hist(met_mass_kg, bins=[2500, 5000,7500, 10000, 12500, 15000,17500, 20000, 22500, 25000, 27500, 30000,32500, 35000,37500, 40000,42500, 45000,47500, 50000,52500, 55000,57500, 60000])\n",
    "plt.show()\n",
    "#range(min(met_mass_kg), max(met_mass_kg) + binwidth, binwidth))"
   ]
  },
  {
   "cell_type": "markdown",
   "id": "1b98bee7",
   "metadata": {},
   "source": [
    "It's clear that the majority of meteorites that fall have a mass that is less than 1kg.  \n",
    "\n",
    "Because of this, it would not make sense to take measures of centrality using kilograms."
   ]
  },
  {
   "cell_type": "code",
   "execution_count": 137,
   "id": "42d45b7f",
   "metadata": {},
   "outputs": [
    {
     "data": {
      "text/plain": [
       "13283.62"
      ]
     },
     "execution_count": 137,
     "metadata": {},
     "output_type": "execute_result"
    }
   ],
   "source": [
    "met_mass_g = met_df[(met_df['mass (g)']>0)&(met_df['mass (g)']<=60000000)]\n",
    "round(np.mean(met_mass_g['mass (g)']), 2)\n"
   ]
  },
  {
   "cell_type": "markdown",
   "id": "481a8292",
   "metadata": {},
   "source": [
    "The mean of masses is 13,278.08 grams.  We can see that this is pulled up by the outliers that have masses greater than 50000kg."
   ]
  },
  {
   "cell_type": "code",
   "execution_count": 139,
   "id": "3559dd1d",
   "metadata": {},
   "outputs": [
    {
     "data": {
      "text/plain": [
       "32.695"
      ]
     },
     "execution_count": 139,
     "metadata": {},
     "output_type": "execute_result"
    }
   ],
   "source": [
    "np.median(met_mass_g['mass (g)'])\n",
    "#met_mass_g = met_mass_g.sort_values(by='mass (g)')\n",
    "#met_mass_g.head()"
   ]
  },
  {
   "cell_type": "markdown",
   "id": "d2fa71e6",
   "metadata": {},
   "source": [
    "While there are certainly some very large meteorites that have hit the Earth, half of them have been less than 32.6 kg in size, which is about the same size as a Golden Retriever."
   ]
  },
  {
   "cell_type": "code",
   "execution_count": 140,
   "id": "1ef2af73",
   "metadata": {},
   "outputs": [
    {
     "name": "stdout",
     "output_type": "stream",
     "text": [
      "Q1 of the data is 7.2\n",
      "Q3 of the data is 202.8\n"
     ]
    }
   ],
   "source": [
    "quart = np.quantile(met_mass_g['mass (g)'], [.25, .75])\n",
    "Q1 = quart[0]\n",
    "Q3 = quart[1]\n",
    "print(\"Q1 of the data is \" + str(Q1))\n",
    "print(\"Q3 of the data is \" + str(Q3))"
   ]
  },
  {
   "cell_type": "markdown",
   "id": "c9e54121",
   "metadata": {},
   "source": [
    "Q1 of our data is 7.2 grams and the Q3 is 202.6 grams.  This means that 75% of the meteors that have hit the earth are less than 202.6 kg."
   ]
  },
  {
   "cell_type": "code",
   "execution_count": 141,
   "id": "3bf82678",
   "metadata": {},
   "outputs": [
    {
     "name": "stdout",
     "output_type": "stream",
     "text": [
      "Any meteorite that has a mass of less than -285.9grams is a lower outlier.\n",
      "Any meteorite that has a mass of more than 495.9grams is an upper outlier\n"
     ]
    }
   ],
   "source": [
    "iqr = 202.6 - 7.2 \n",
    "upper_out = round(Q3 + (iqr * 1.5), 2)\n",
    "lower_out = round(Q1 - (iqr * 1.5), 2)\n",
    "\n",
    "print(\"Any meteorite that has a mass of less than \" + str(lower_out) + \"grams is a lower outlier.\")\n",
    "print(\"Any meteorite that has a mass of more than \" + str(upper_out) + \"grams is an upper outlier\")"
   ]
  },
  {
   "cell_type": "markdown",
   "id": "2e9f51d2",
   "metadata": {},
   "source": [
    "There won't be any lower outliers because it's impossible for something to have negative mass.  However, there are more than likely a few upper outliers."
   ]
  },
  {
   "cell_type": "code",
   "execution_count": 143,
   "id": "73bd2e70",
   "metadata": {},
   "outputs": [
    {
     "name": "stdout",
     "output_type": "stream",
     "text": [
      "There are 7086 outliers that have a mass of more than 459.9 grams.\n"
     ]
    }
   ],
   "source": [
    "outliers = met_mass_g[met_mass_g['mass (g)'] >= 495.9]\n",
    "print(\"There are \" + str(len(outliers)) + \" outliers that have a mass of more than 459.9 grams.\")"
   ]
  },
  {
   "cell_type": "code",
   "execution_count": 149,
   "id": "55b1aa72",
   "metadata": {},
   "outputs": [
    {
     "data": {
      "text/plain": [
       "<function matplotlib.pyplot.show(close=None, block=None)>"
      ]
     },
     "execution_count": 149,
     "metadata": {},
     "output_type": "execute_result"
    },
    {
     "data": {
      "image/png": "[encoded data removed]",
      "text/plain": [
       "<Figure size 640x480 with 1 Axes>"
      ]
     },
     "metadata": {},
     "output_type": "display_data"
    }
   ],
   "source": [
    "x = met_mass_g['year']\n",
    "y = met_mass_g['mass (kg)']\n",
    "\n",
    "plt.scatter(x, y)\n",
    "plt.title(\"Size of Meteorites Through the Years\")\n",
    "plt.xlabel(\"Year\")\n",
    "plt.ylabel('Mass (kg)')\n",
    "plt.show\n"
   ]
  },
  {
   "cell_type": "markdown",
   "id": "ad1f69ec",
   "metadata": {},
   "source": [
    "A few of final observations from this scatterplot.\n",
    "\n",
    "1. There is an increase in the number of meteorites both found and witnessed falling as time goes on.  This could be for a multitude of reasons including the invention of the telescope in 1608 and the developments in the field of geology that occured in the late 17th century. \n",
    "2. There is a very large gap between the first meteorite in the data, and the second one.  It's very odd that there is no data of meteorite activity during those almost 600 years.  \n",
    "3. As seen from the analysis of the quartiles, a vast majority of meteorites are smaller than 500kg, which makes those that are larger all the more interesting and frightening."
   ]
  }
 ],
 "metadata": {
  "kernelspec": {
   "display_name": "Python 3 (ipykernel)",
   "language": "python",
   "name": "python3"
  },
  "language_info": {
   "codemirror_mode": {
    "name": "ipython",
    "version": 3
   },
   "file_extension": ".py",
   "mimetype": "text/x-python",
   "name": "python",
   "nbconvert_exporter": "python",
   "pygments_lexer": "ipython3",
   "version": "3.9.13"
  }
 },
 "nbformat": 4,
 "nbformat_minor": 5
}
